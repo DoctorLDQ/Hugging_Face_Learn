{
  "cells": [
    {
      "cell_type": "code",
      "execution_count": 3,
      "metadata": {
        "id": "8SfX19_J2S1n"
      },
      "outputs": [],
      "source": [
        "from google.colab import output\n",
        "output.disable_custom_widget_manager()"
      ]
    },
    {
      "cell_type": "code",
      "source": [
        "from datasets import load_dataset\n",
        "from transformers import AutoTokenizer,DataCollatorWithPadding"
      ],
      "metadata": {
        "id": "5cS4Ch6f2ZYi"
      },
      "execution_count": 4,
      "outputs": []
    },
    {
      "cell_type": "code",
      "source": [
        "raw_datasets = load_dataset('glue','mrpc')\n",
        "checkpoint = 'bert-base-uncased'\n",
        "tokenizer = AutoTokenizer.from_pretrained(checkpoint)\n",
        "\n",
        "def tokenize_function(example):\n",
        "  return tokenizer(example['sentence1'],example['sentence2'],truncation=True)\n",
        "tokenized_datasets = raw_datasets.map(tokenize_function,batched=True)\n",
        "data_collator = DataCollatorWithPadding(tokenizer=tokenizer)"
      ],
      "metadata": {
        "colab": {
          "base_uri": "https://localhost:8080/",
          "height": 113,
          "referenced_widgets": [
            "305deb204d974d658d3ec9f585c3f641",
            "5c0d99dd8288483ea38eb227b3d682aa",
            "46c4796ea32d4d248b0be6801dfa7dd3",
            "94070a1bf3a34a8280d1fc6e52703e54",
            "e140ffe069cf43119e3ef49b14bcbb75",
            "02543f95fe6e4ca39462cd4e8e1a421d",
            "e30d52759b0b41b8a6cf4e8cb1c30c5c",
            "8843045dea7143a589bd0804c6655387",
            "b2bb99f3fd5d485e85e01ef58ba26e49",
            "34cdba808e8f4eea80f49b8e7d3e3130",
            "bb25118c47c8456a998484b05f1078e7",
            "c4456a763dc441baaa0c1607e9599866",
            "83edb1acf0d1401989c680d17983b317",
            "05ae95f1bfdf46558f8d6bf18b67d170",
            "b460a26f3dae4042a8badfd0c7392372",
            "0e542ee2c74e420e9fa1732c3e65cdf8",
            "822910939695483f8697dccbe085bcaa",
            "fe394989dc2c48eb88d6f4efdc6cafc1",
            "008f0f35a49d468baa8befb665276f43",
            "407d6aa8622948f3bff2d04940572328",
            "55714aa8eadf427d9d3d8f8769ed2fc9",
            "e244c6651e784741a318b92b745e2bed",
            "af90ddeb764e4159b311d28f45ffa389",
            "a09e8e0532c9404a89b495d3b3592094",
            "8e80f50d22d840a887f42b601dca4c9b",
            "3a9d21a5d8884b4e9564861fd22ac8a1",
            "45019758aeb24d549d42390c585dda1e",
            "63f005300f554b7f837c6868b43e6efb",
            "5109e7dd322140fd95aa75c8414380ce",
            "f94cc2b361d54ee4a046a07a752e7227",
            "7c1bf8cc420e43a48741f47b115f1a57",
            "f4a41808c2364274935c0defd4885486",
            "f56bae25d8034e8c90526d6bc12bc8d6"
          ]
        },
        "id": "pCw-NLvH2jiq",
        "outputId": "7ec1cb87-e438-48ab-a2f8-7bb52d10fae3"
      },
      "execution_count": 6,
      "outputs": [
        {
          "output_type": "display_data",
          "data": {
            "text/plain": [
              "Map:   0%|          | 0/3668 [00:00<?, ? examples/s]"
            ],
            "application/vnd.jupyter.widget-view+json": {
              "version_major": 2,
              "version_minor": 0,
              "model_id": "305deb204d974d658d3ec9f585c3f641"
            }
          },
          "metadata": {}
        },
        {
          "output_type": "display_data",
          "data": {
            "text/plain": [
              "Map:   0%|          | 0/408 [00:00<?, ? examples/s]"
            ],
            "application/vnd.jupyter.widget-view+json": {
              "version_major": 2,
              "version_minor": 0,
              "model_id": "c4456a763dc441baaa0c1607e9599866"
            }
          },
          "metadata": {}
        },
        {
          "output_type": "display_data",
          "data": {
            "text/plain": [
              "Map:   0%|          | 0/1725 [00:00<?, ? examples/s]"
            ],
            "application/vnd.jupyter.widget-view+json": {
              "version_major": 2,
              "version_minor": 0,
              "model_id": "af90ddeb764e4159b311d28f45ffa389"
            }
          },
          "metadata": {}
        }
      ]
    },
    {
      "cell_type": "code",
      "source": [
        "# 在 notebook 中添加以下代码并运行\n",
        "from IPython.display import Javascript\n",
        "\n",
        "Javascript(\"\"\"\n",
        "IPython.notebook.set_dirty(false);\n",
        "// 清理元数据\n",
        "var cell = IPython.notebook.get_cell(0);\n",
        "if (cell.metadata.widgets) {\n",
        "    delete cell.metadata.widgets;\n",
        "}\n",
        "IPython.notebook.save_checkpoint();\n",
        "\"\"\")"
      ],
      "metadata": {
        "colab": {
          "base_uri": "https://localhost:8080/",
          "height": 17
        },
        "id": "szfCWS6j3JtN",
        "outputId": "be357503-bf87-4dd0-dfa2-fcc6191fd58d"
      },
      "execution_count": 7,
      "outputs": [
        {
          "output_type": "execute_result",
          "data": {
            "text/plain": [
              "<IPython.core.display.Javascript object>"
            ],
            "application/javascript": [
              "\n",
              "IPython.notebook.set_dirty(false);\n",
              "// 清理元数据\n",
              "var cell = IPython.notebook.get_cell(0);\n",
              "if (cell.metadata.widgets) {\n",
              "    delete cell.metadata.widgets;\n",
              "}\n",
              "IPython.notebook.save_checkpoint();\n"
            ]
          },
          "metadata": {},
          "execution_count": 7
        }
      ]
    },
    {
      "cell_type": "code",
      "source": [],
      "metadata": {
        "id": "Q__qjLTZ37E8"
      },
      "execution_count": null,
      "outputs": []
    }
  ],
  "metadata": {
    "colab": {
      "name": "Fine-tuning a model with the Trainer API or Keras",
      "provenance": []
    },
    "language_info": {
      "name": "python"
    },
    "kernelspec": {
      "name": "python3",
      "display_name": "Python 3"
    },
  "nbformat": 4,
  "nbformat_minor": 0
}
