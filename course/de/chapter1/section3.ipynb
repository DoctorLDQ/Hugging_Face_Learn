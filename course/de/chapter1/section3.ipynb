{
  "cells": [
    {
      "cell_type": "code",
      "source": [
        "from transformers import pipeline"
      ],
      "metadata": {
        "id": "Oi4ULcJcuNte"
      },
      "execution_count": 4,
      "outputs": []
    },
    {
      "cell_type": "code",
      "source": [
        "classifier = pipeline('sentiment-analysis')\n",
        "classifier(\"Learning is good for me\")"
      ],
      "metadata": {
        "id": "1oybaNGhuRQT",
        "outputId": "03dc2b08-eb5c-4597-f41e-76f4871f0a51",
        "colab": {
          "base_uri": "https://localhost:8080/"
        }
      },
      "execution_count": 10,
      "outputs": [
        {
          "output_type": "stream",
          "name": "stderr",
          "text": [
            "No model was supplied, defaulted to distilbert/distilbert-base-uncased-finetuned-sst-2-english and revision 714eb0f (https://huggingface.co/distilbert/distilbert-base-uncased-finetuned-sst-2-english).\n",
            "Using a pipeline without specifying a model name and revision in production is not recommended.\n",
            "Device set to use cpu\n"
          ]
        },
        {
          "output_type": "execute_result",
          "data": {
            "text/plain": [
              "[{'label': 'POSITIVE', 'score': 0.9998760223388672}]"
            ]
          },
          "metadata": {},
          "execution_count": 10
        }
      ]
    },
    {
      "cell_type": "markdown",
      "source": [
        "也可以传递多个语句"
      ],
      "metadata": {
        "id": "nnGXVLgFu6DH"
      }
    },
    {
      "cell_type": "code",
      "source": [
        "classifier(\n",
        "    [\"I love u\",\"Somethin is wrong\"]\n",
        ")"
      ],
      "metadata": {
        "id": "VTnJIPY8uTeJ",
        "outputId": "5c22b8d8-235f-4363-b70a-388ea7f8f683",
        "colab": {
          "base_uri": "https://localhost:8080/"
        }
      },
      "execution_count": 11,
      "outputs": [
        {
          "output_type": "execute_result",
          "data": {
            "text/plain": [
              "[{'label': 'POSITIVE', 'score': 0.9998582601547241},\n",
              " {'label': 'NEGATIVE', 'score': 0.9995723366737366}]"
            ]
          },
          "metadata": {},
          "execution_count": 11
        }
      ]
    },
    {
      "cell_type": "code",
      "source": [],
      "metadata": {
        "id": "laMx8l_rvCvU"
      },
      "execution_count": null,
      "outputs": []
    }
  ],
  "metadata": {
    "colab": {
      "name": "Transformer-Modelle - wozu sind sie imstande?",
      "provenance": []
    },
    "language_info": {
      "name": "python"
    },
    "kernelspec": {
      "name": "python3",
      "display_name": "Python 3"
    }
  },
  "nbformat": 4,
  "nbformat_minor": 0
}